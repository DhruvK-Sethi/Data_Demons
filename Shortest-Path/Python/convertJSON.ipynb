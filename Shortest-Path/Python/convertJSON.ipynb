{
 "cells": [
  {
   "cell_type": "code",
   "execution_count": null,
   "id": "8a93f0ef",
   "metadata": {},
   "outputs": [
    {
     "ename": "",
     "evalue": "",
     "output_type": "error",
     "traceback": [
      "\u001b[1;31mRunning cells with '.venv' requires the ipykernel package.\n",
      "\u001b[1;31mRun the following command to install 'ipykernel' into the Python environment. \n",
      "\u001b[1;31mCommand: '\"c:/Users/Aarchie Maggu/Downloads/Data_Demons/.venv/Scripts/python.exe\" -m pip install ipykernel -U --force-reinstall'"
     ]
    }
   ],
   "source": [
    "from haversine import haversine\n",
    "import xmltodict\n",
    "from sklearn.neighbors import KDTree\n",
    "import time\n",
    "import numpy as np"
   ]
  },
  {
   "cell_type": "code",
   "execution_count": null,
   "id": "8f29aff2",
   "metadata": {},
   "outputs": [
    {
     "ename": "",
     "evalue": "",
     "output_type": "error",
     "traceback": [
      "\u001b[1;31mRunning cells with 'c:\\Users\\Aarchie Maggu\\AppData\\Local\\Microsoft\\WindowsApps\\python3.10.exe' requires the ipykernel package.\n",
      "\u001b[1;31mRun the following command to install 'ipykernel' into the Python environment. \n",
      "\u001b[1;31mCommand: '\"c:/Users/Aarchie Maggu/AppData/Local/Microsoft/WindowsApps/python3.10.exe\" -m pip install ipykernel -U --user --force-reinstall'"
     ]
    }
   ],
   "source": [
    "s = time.time()\n",
    "doc = {}\n",
    "with open('data/map.graphml') as fd:\n",
    "    doc = xmltodict.parse(fd.read())\n",
    "print(time.time()-s)"
   ]
  },
  {
   "cell_type": "code",
   "execution_count": 3,
   "id": "9765275f",
   "metadata": {},
   "outputs": [],
   "source": [
    "def getLatLon(OSMId):\n",
    "    lat, lon = 0, 0\n",
    "    nodes = doc['graphml']['graph']['node']\n",
    "    for eachNode in range(len(nodes)):\n",
    "        if (nodes[eachNode][\"@id\"] == str(OSMId)):\n",
    "            lat = float(nodes[eachNode][\"data\"][0][\"#text\"])\n",
    "            lon = float(nodes[eachNode][\"data\"][1][\"#text\"])\n",
    "    return (lat, lon)"
   ]
  },
  {
   "cell_type": "code",
   "execution_count": 4,
   "id": "4974e996",
   "metadata": {},
   "outputs": [],
   "source": [
    "res=getLatLon(\"1947936514\")"
   ]
  },
  {
   "cell_type": "code",
   "execution_count": 5,
   "id": "c13c9bc5",
   "metadata": {},
   "outputs": [
    {
     "data": {
      "text/plain": [
       "(40.5207299, -74.4575536)"
      ]
     },
     "execution_count": 5,
     "metadata": {},
     "output_type": "execute_result"
    }
   ],
   "source": [
    "res"
   ]
  },
  {
   "cell_type": "code",
   "execution_count": 6,
   "id": "42762acc",
   "metadata": {},
   "outputs": [],
   "source": [
    "def getOSMId(lat, lon):\n",
    "    OSMId = 0\n",
    "    nodes = doc['graphml']['graph']['node']\n",
    "    for eachNode in range(len(nodes)):\n",
    "        if (nodes[eachNode][\"data\"][0][\"#text\"] == str(lat)):\n",
    "            if (nodes[eachNode][\"data\"][1][\"#text\"] == str(lon)):\n",
    "                OSMId = nodes[eachNode][\"data\"][2][\"#text\"]\n",
    "\n",
    "    return OSMId"
   ]
  },
  {
   "cell_type": "code",
   "execution_count": 13,
   "id": "4f30816d",
   "metadata": {},
   "outputs": [],
   "source": [
    "res=getOSMId(\"40.49840455168209\",\"-74.44476100847496\")"
   ]
  },
  {
   "cell_type": "code",
   "execution_count": 14,
   "id": "f9a1ebe5",
   "metadata": {},
   "outputs": [
    {
     "data": {
      "text/plain": [
       "0"
      ]
     },
     "execution_count": 14,
     "metadata": {},
     "output_type": "execute_result"
    }
   ],
   "source": [
    "res"
   ]
  },
  {
   "cell_type": "code",
   "execution_count": 15,
   "id": "a8094139",
   "metadata": {},
   "outputs": [],
   "source": [
    "def calculateHeuristic(curr, destination):\n",
    "    return (haversine(curr, destination))"
   ]
  },
  {
   "cell_type": "code",
   "execution_count": 16,
   "id": "abeac819",
   "metadata": {},
   "outputs": [],
   "source": [
    "res=calculateHeuristic([27.1767,78.0081],[30.9010,75.8573])"
   ]
  },
  {
   "cell_type": "code",
   "execution_count": 17,
   "id": "9e346878",
   "metadata": {},
   "outputs": [
    {
     "data": {
      "text/plain": [
       "463.88359865356284"
      ]
     },
     "execution_count": 17,
     "metadata": {},
     "output_type": "execute_result"
    }
   ],
   "source": [
    "res"
   ]
  },
  {
   "cell_type": "code",
   "execution_count": 18,
   "id": "2f492af2",
   "metadata": {},
   "outputs": [],
   "source": [
    "def getNeighbours(OSMId, destinationLetLon):\n",
    "    neighbourDict = {}\n",
    "    tempList = []\n",
    "    edges = doc['graphml']['graph']['edge']\n",
    "    for eachEdge in range(len(edges)):\n",
    "        if (edges[eachEdge][\"@source\"] == str(OSMId)):\n",
    "            temp_nbr = {}\n",
    "\n",
    "            neighbourCost = 0\n",
    "            neighbourId = edges[eachEdge][\"@target\"]\n",
    "            neighbourLatLon = getLatLon(neighbourId)\n",
    "\n",
    "            dataPoints = edges[eachEdge][\"data\"]\n",
    "            for eachData in range(len(dataPoints)):\n",
    "                if (dataPoints[eachData][\"@key\"] == \"d12\"):\n",
    "                    neighbourCost = dataPoints[eachData][\"#text\"]\n",
    "\n",
    "            neighborHeuristic = calculateHeuristic(\n",
    "                neighbourLatLon, destinationLetLon)\n",
    "\n",
    "            temp_nbr[neighbourId] = [neighbourLatLon,\n",
    "                                     neighbourCost, neighborHeuristic]\n",
    "            tempList.append(temp_nbr)\n",
    "\n",
    "    neighbourDict[OSMId] = tempList\n",
    "    return (neighbourDict)\n",
    "\n",
    "\n",
    "def getNeighbourInfo(neighbourDict):\n",
    "    neighbourId = 0\n",
    "    neighbourHeuristic = 0\n",
    "    neighbourCost = 0\n",
    "    for key, value in neighbourDict.items():\n",
    "\n",
    "        neighbourId = key\n",
    "        neighbourHeuristic = float(value[2])\n",
    "        neighbourCost = float(value[1])/1000\n",
    "        neighbourLatLon = value[0]\n",
    "\n",
    "    return neighbourId, neighbourHeuristic, neighbourCost, neighbourLatLon\n"
   ]
  },
  {
   "cell_type": "code",
   "execution_count": 19,
   "id": "ab955ed4",
   "metadata": {},
   "outputs": [],
   "source": [
    "res=getNeighbours('1947936514',[30.9010,75.8573])"
   ]
  },
  {
   "cell_type": "code",
   "execution_count": 20,
   "id": "07ff6158",
   "metadata": {},
   "outputs": [
    {
     "data": {
      "text/plain": [
       "{'1947936514': [{'1947936312': [(40.5211255, -74.4587767),\n",
       "    '112.354',\n",
       "    11505.752210152154]},\n",
       "  {'1947936754': [(40.5216943, -74.4570038), '116.873', 11505.629838671599]}]}"
      ]
     },
     "execution_count": 20,
     "metadata": {},
     "output_type": "execute_result"
    }
   ],
   "source": [
    "res"
   ]
  },
  {
   "cell_type": "code",
   "execution_count": 15,
   "id": "d4a636ec",
   "metadata": {},
   "outputs": [
    {
     "ename": "IndexError",
     "evalue": "list index out of range",
     "output_type": "error",
     "traceback": [
      "\u001b[1;31m---------------------------------------------------------------------------\u001b[0m",
      "\u001b[1;31mIndexError\u001b[0m                                Traceback (most recent call last)",
      "Cell \u001b[1;32mIn[15], line 1\u001b[0m\n\u001b[1;32m----> 1\u001b[0m res\u001b[38;5;241m=\u001b[39m\u001b[43mgetNeighbourInfo\u001b[49m\u001b[43m(\u001b[49m\u001b[43m{\u001b[49m\u001b[38;5;124;43m'\u001b[39;49m\u001b[38;5;124;43m1947936514\u001b[39;49m\u001b[38;5;124;43m'\u001b[39;49m\u001b[43m:\u001b[49m\u001b[43m \u001b[49m\u001b[43m[\u001b[49m\u001b[43m{\u001b[49m\u001b[38;5;124;43m'\u001b[39;49m\u001b[38;5;124;43m1947936312\u001b[39;49m\u001b[38;5;124;43m'\u001b[39;49m\u001b[43m:\u001b[49m\u001b[43m \u001b[49m\u001b[43m[\u001b[49m\u001b[43m(\u001b[49m\u001b[38;5;241;43m40.5211255\u001b[39;49m\u001b[43m,\u001b[49m\u001b[43m \u001b[49m\u001b[38;5;241;43m-\u001b[39;49m\u001b[38;5;241;43m74.4587767\u001b[39;49m\u001b[43m)\u001b[49m\u001b[43m,\u001b[49m\n\u001b[0;32m      2\u001b[0m \u001b[43m    \u001b[49m\u001b[38;5;124;43m'\u001b[39;49m\u001b[38;5;124;43m112.354\u001b[39;49m\u001b[38;5;124;43m'\u001b[39;49m\u001b[43m,\u001b[49m\n\u001b[0;32m      3\u001b[0m \u001b[43m    \u001b[49m\u001b[38;5;241;43m11505.752210152154\u001b[39;49m\u001b[43m]\u001b[49m\u001b[43m}\u001b[49m\u001b[43m,\u001b[49m\n\u001b[0;32m      4\u001b[0m \u001b[43m  \u001b[49m\u001b[43m{\u001b[49m\u001b[38;5;124;43m'\u001b[39;49m\u001b[38;5;124;43m1947936754\u001b[39;49m\u001b[38;5;124;43m'\u001b[39;49m\u001b[43m:\u001b[49m\u001b[43m \u001b[49m\u001b[43m[\u001b[49m\u001b[43m(\u001b[49m\u001b[38;5;241;43m40.5216943\u001b[39;49m\u001b[43m,\u001b[49m\u001b[43m \u001b[49m\u001b[38;5;241;43m-\u001b[39;49m\u001b[38;5;241;43m74.4570038\u001b[39;49m\u001b[43m)\u001b[49m\u001b[43m,\u001b[49m\u001b[43m \u001b[49m\u001b[38;5;124;43m'\u001b[39;49m\u001b[38;5;124;43m116.873\u001b[39;49m\u001b[38;5;124;43m'\u001b[39;49m\u001b[43m,\u001b[49m\u001b[43m \u001b[49m\u001b[38;5;241;43m11505.629838671599\u001b[39;49m\u001b[43m]\u001b[49m\u001b[43m}\u001b[49m\u001b[43m]\u001b[49m\u001b[43m}\u001b[49m\u001b[43m)\u001b[49m\n",
      "Cell \u001b[1;32mIn[12], line 36\u001b[0m, in \u001b[0;36mgetNeighbourInfo\u001b[1;34m(neighbourDict)\u001b[0m\n\u001b[0;32m     33\u001b[0m \u001b[38;5;28;01mfor\u001b[39;00m key, value \u001b[38;5;129;01min\u001b[39;00m neighbourDict\u001b[38;5;241m.\u001b[39mitems():\n\u001b[0;32m     35\u001b[0m     neighbourId \u001b[38;5;241m=\u001b[39m key\n\u001b[1;32m---> 36\u001b[0m     neighbourHeuristic \u001b[38;5;241m=\u001b[39m \u001b[38;5;28mfloat\u001b[39m(\u001b[43mvalue\u001b[49m\u001b[43m[\u001b[49m\u001b[38;5;241;43m2\u001b[39;49m\u001b[43m]\u001b[49m)\n\u001b[0;32m     37\u001b[0m     neighbourCost \u001b[38;5;241m=\u001b[39m \u001b[38;5;28mfloat\u001b[39m(value[\u001b[38;5;241m1\u001b[39m])\u001b[38;5;241m/\u001b[39m\u001b[38;5;241m1000\u001b[39m\n\u001b[0;32m     38\u001b[0m     neighbourLatLon \u001b[38;5;241m=\u001b[39m value[\u001b[38;5;241m0\u001b[39m]\n",
      "\u001b[1;31mIndexError\u001b[0m: list index out of range"
     ]
    }
   ],
   "source": [
    "res=getNeighbourInfo({'1947936514': [{'1947936312': [(40.5211255, -74.4587767),\n",
    "    '112.354',\n",
    "    11505.752210152154]},\n",
    "  {'1947936754': [(40.5216943, -74.4570038), '116.873', 11505.629838671599]}]})"
   ]
  },
  {
   "cell_type": "code",
   "execution_count": 22,
   "id": "206dc6fd",
   "metadata": {},
   "outputs": [],
   "source": [
    "def getKNN(pointLocation):\n",
    "    nodes = doc[\"graphml\"][\"graph\"][\"node\"]\n",
    "    locations = []\n",
    "    for eachNode in range(len(nodes)):\n",
    "        locations.append(\n",
    "            (nodes[eachNode][\"data\"][0][\"#text\"], nodes[eachNode][\"data\"][1][\"#text\"]))\n",
    "\n",
    "    locations_arr = np.asarray(locations, dtype=np.float32)\n",
    "    point = np.asarray(pointLocation, dtype=np.float32)\n",
    "\n",
    "    tree = KDTree(locations_arr, leaf_size=2)\n",
    "    dist, ind = tree.query(point.reshape(1, -1), k=3)\n",
    "\n",
    "    nearestNeighbourLoc = (\n",
    "        float(locations[ind[0][0]][0]), float(locations[ind[0][0]][1]))\n",
    "\n",
    "    return nearestNeighbourLoc"
   ]
  },
  {
   "cell_type": "code",
   "execution_count": 24,
   "id": "f05a332a",
   "metadata": {},
   "outputs": [],
   "source": [
    "res=getKNN([40.49840455168209,-74.44476100847496])"
   ]
  },
  {
   "cell_type": "code",
   "execution_count": 25,
   "id": "d49ff2b3",
   "metadata": {},
   "outputs": [
    {
     "data": {
      "text/plain": [
       "(40.4983425, -74.444755)"
      ]
     },
     "execution_count": 25,
     "metadata": {},
     "output_type": "execute_result"
    }
   ],
   "source": [
    "res"
   ]
  },
  {
   "cell_type": "code",
   "execution_count": 26,
   "id": "97c6d964",
   "metadata": {},
   "outputs": [],
   "source": [
    "def getResponsePathDict(paths, source, destination):\n",
    "    finalPath = []\n",
    "    child = destination\n",
    "    parent = ()\n",
    "    cost = 0\n",
    "    while (parent != source):\n",
    "        tempDict = {}\n",
    "        cost = cost + float(paths[str(child)][\"cost\"])\n",
    "        parent = paths[str(child)][\"parent\"]\n",
    "        parent = tuple(float(x) for x in parent.strip('()').split(','))\n",
    "\n",
    "        tempDict[\"lat\"] = parent[0]\n",
    "        tempDict[\"lng\"] = parent[1]\n",
    "\n",
    "        finalPath.append(tempDict)\n",
    "        child = parent\n",
    "\n",
    "    return finalPath, cost"
   ]
  },
  {
   "cell_type": "code",
   "execution_count": null,
   "id": "49622a44",
   "metadata": {},
   "outputs": [],
   "source": []
  }
 ],
 "metadata": {
  "kernelspec": {
   "display_name": "Python 3 (ipykernel)",
   "language": "python",
   "name": "python3"
  },
  "language_info": {
   "codemirror_mode": {
    "name": "ipython",
    "version": 3
   },
   "file_extension": ".py",
   "mimetype": "text/x-python",
   "name": "python",
   "nbconvert_exporter": "python",
   "pygments_lexer": "ipython3",
   "version": "3.10.11"
  }
 },
 "nbformat": 4,
 "nbformat_minor": 5
}
