{
 "cells": [
  {
   "cell_type": "code",
   "execution_count": 1,
   "id": "dad7c838",
   "metadata": {},
   "outputs": [
    {
     "name": "stdout",
     "output_type": "stream",
     "text": [
      "4.1798131465911865\n"
     ]
    }
   ],
   "source": [
    "import json\n",
    "from flask import Flask, request\n",
    "from flask_cors import CORS\n",
    "import convertJSON as cj\n",
    "import astar as algo"
   ]
  },
  {
   "cell_type": "code",
   "execution_count": 2,
   "id": "5ed9c915",
   "metadata": {},
   "outputs": [
    {
     "data": {
      "text/plain": [
       "<flask_cors.extension.CORS at 0x24aa11ae140>"
      ]
     },
     "execution_count": 2,
     "metadata": {},
     "output_type": "execute_result"
    }
   ],
   "source": [
    "app = Flask(__name__)\n",
    "CORS(app)"
   ]
  },
  {
   "cell_type": "code",
   "execution_count": 3,
   "id": "0a926994",
   "metadata": {},
   "outputs": [],
   "source": [
    "@app.route('/calculate', methods=['GET'])\n",
    "def home():\n",
    "    raw_input = request.args.get('pntdata').split(',')\n",
    "\n",
    "    inputSourceLoc = (float(raw_input[0]), float(raw_input[1]))\n",
    "    inputDestLoc = (float(raw_input[2]), float(raw_input[3]))\n",
    "\n",
    "    mappedSourceLoc = cj.getKNN(inputSourceLoc)\n",
    "    mappedDestLoc = cj.getKNN(inputDestLoc)\n",
    "\n",
    "    path = algo.aStar(mappedSourceLoc, mappedDestLoc)\n",
    "    finalPath, cost = cj.getResponsePathDict(\n",
    "        path, mappedSourceLoc, mappedDestLoc)\n",
    "\n",
    "    print(\"Cost of the path(km): \"+str(cost))\n",
    "    return json.dumps(finalPath)"
   ]
  },
  {
   "cell_type": "code",
   "execution_count": null,
   "id": "675675fb",
   "metadata": {},
   "outputs": [
    {
     "name": "stdout",
     "output_type": "stream",
     "text": [
      " * Serving Flask app '__main__'\n",
      " * Debug mode: off\n"
     ]
    },
    {
     "name": "stderr",
     "output_type": "stream",
     "text": [
      "WARNING: This is a development server. Do not use it in a production deployment. Use a production WSGI server instead.\n",
      " * Running on all addresses (0.0.0.0)\n",
      " * Running on http://127.0.0.1:5000\n",
      " * Running on http://192.168.1.5:5000\n",
      "Press CTRL+C to quit\n",
      "127.0.0.1 - - [15/Apr/2023 18:16:00] \"GET /calculate?pntdata=40.49840455168209,-74.44476100847496,40.49923169717668,-74.4478649066509 HTTP/1.1\" 200 -\n",
      "127.0.0.1 - - [15/Apr/2023 18:16:00] \"GET /favicon.ico HTTP/1.1\" 404 -\n"
     ]
    },
    {
     "name": "stdout",
     "output_type": "stream",
     "text": [
      "We have reached to the goal\n",
      "Time taken to find path(in second): 7.138426303863525\n",
      "Cost of the path(km): 0.337249\n"
     ]
    }
   ],
   "source": [
    "\n",
    "if __name__ == \"__main__\":\n",
    "    app.run(host='0.0.0.0')"
   ]
  },
  {
   "cell_type": "code",
   "execution_count": null,
   "id": "fa138751",
   "metadata": {},
   "outputs": [],
   "source": [
    "raw_input = request.args.get('pntdata').split(',')"
   ]
  },
  {
   "cell_type": "code",
   "execution_count": null,
   "id": "45e02526",
   "metadata": {},
   "outputs": [],
   "source": []
  }
 ],
 "metadata": {
  "kernelspec": {
   "display_name": "Python 3 (ipykernel)",
   "language": "python",
   "name": "python3"
  },
  "language_info": {
   "codemirror_mode": {
    "name": "ipython",
    "version": 3
   },
   "file_extension": ".py",
   "mimetype": "text/x-python",
   "name": "python",
   "nbconvert_exporter": "python",
   "pygments_lexer": "ipython3",
   "version": "3.10.9"
  }
 },
 "nbformat": 4,
 "nbformat_minor": 5
}
